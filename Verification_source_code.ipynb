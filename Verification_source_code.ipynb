{
 "cells": [
  {
   "cell_type": "code",
   "execution_count": 1,
   "id": "4f2ea24f",
   "metadata": {},
   "outputs": [],
   "source": [
    "import warnings\n",
    "warnings.filterwarnings('ignore')\n",
    "import pandas as pd\n",
    "import numpy as np\n",
    "import seaborn as sns\n",
    "import matplotlib.pyplot as plt\n",
    "import plotly.express as px\n",
    "\n",
    "import tensorflow as tf\n",
    "import tensorflow_addons as tfa\n",
    "from tensorflow.keras.models import Sequential\n",
    "from tensorflow.keras.layers import Activation , BatchNormalization\n",
    "from tensorflow.keras.layers import Flatten\n",
    "from tensorflow.keras.optimizers import SGD\n",
    "from tensorflow.keras import backend as K\n",
    "from tensorflow import keras\n",
    "from tensorflow.keras import layers\n",
    "from tensorflow.keras.layers import Dense,Softmax,Dropout\n",
    "from tensorflow.keras.layers import LSTM,Flatten\n",
    "from tensorflow.keras import regularizers\n",
    "from sklearn.model_selection import train_test_split\n",
    "from tensorflow.keras.layers.experimental import preprocessing\n",
    "from tensorflow.keras.utils import to_categorical\n",
    "from sklearn.preprocessing import OneHotEncoder\n",
    "from sklearn.preprocessing import LabelEncoder"
   ]
  },
  {
   "cell_type": "code",
   "execution_count": 2,
   "id": "745369fa",
   "metadata": {},
   "outputs": [],
   "source": [
    "def one_hot(label,column):\n",
    "    encoder_df = pd.DataFrame((to_categorical(label)))\n",
    "    final_df = df.join(encoder_df)\n",
    "    final_df = final_df.drop(column,axis=1)\n",
    "    return final_df "
   ]
  },
  {
   "cell_type": "code",
   "execution_count": 3,
   "id": "9b4e9afa",
   "metadata": {},
   "outputs": [],
   "source": [
    "def split(data,test_size):\n",
    "    X_train, X_val, ytrain, yval = train_test_split(data[0], data[1],test_size = 0.2,shuffle=True)\n",
    "    return X_train, ytrain,X_val, yval"
   ]
  },
  {
   "cell_type": "code",
   "execution_count": 4,
   "id": "0e5e3b22",
   "metadata": {},
   "outputs": [],
   "source": [
    "#Use the provided sample data for training and testing your model.\n",
    "df=pd.read_csv('verification.csv')\n",
    "df_base=pd.read_csv('data.csv')\n",
    "df=df[['red','green','blue']].copy()"
   ]
  },
  {
   "cell_type": "code",
   "execution_count": 5,
   "id": "eefe0b62",
   "metadata": {},
   "outputs": [
    {
     "data": {
      "text/html": [
       "<div>\n",
       "<style scoped>\n",
       "    .dataframe tbody tr th:only-of-type {\n",
       "        vertical-align: middle;\n",
       "    }\n",
       "\n",
       "    .dataframe tbody tr th {\n",
       "        vertical-align: top;\n",
       "    }\n",
       "\n",
       "    .dataframe thead th {\n",
       "        text-align: right;\n",
       "    }\n",
       "</style>\n",
       "<table border=\"1\" class=\"dataframe\">\n",
       "  <thead>\n",
       "    <tr style=\"text-align: right;\">\n",
       "      <th></th>\n",
       "      <th>red</th>\n",
       "      <th>green</th>\n",
       "      <th>blue</th>\n",
       "    </tr>\n",
       "  </thead>\n",
       "  <tbody>\n",
       "    <tr>\n",
       "      <th>0</th>\n",
       "      <td>25</td>\n",
       "      <td>25</td>\n",
       "      <td>215</td>\n",
       "    </tr>\n",
       "    <tr>\n",
       "      <th>1</th>\n",
       "      <td>252</td>\n",
       "      <td>52</td>\n",
       "      <td>25</td>\n",
       "    </tr>\n",
       "    <tr>\n",
       "      <th>2</th>\n",
       "      <td>31</td>\n",
       "      <td>12</td>\n",
       "      <td>64</td>\n",
       "    </tr>\n",
       "    <tr>\n",
       "      <th>3</th>\n",
       "      <td>122</td>\n",
       "      <td>105</td>\n",
       "      <td>105</td>\n",
       "    </tr>\n",
       "    <tr>\n",
       "      <th>4</th>\n",
       "      <td>45</td>\n",
       "      <td>46</td>\n",
       "      <td>64</td>\n",
       "    </tr>\n",
       "  </tbody>\n",
       "</table>\n",
       "</div>"
      ],
      "text/plain": [
       "   red  green  blue\n",
       "0   25     25   215\n",
       "1  252     52    25\n",
       "2   31     12    64\n",
       "3  122    105   105\n",
       "4   45     46    64"
      ]
     },
     "execution_count": 5,
     "metadata": {},
     "output_type": "execute_result"
    }
   ],
   "source": [
    "df"
   ]
  },
  {
   "cell_type": "code",
   "execution_count": 6,
   "id": "6465ddd7",
   "metadata": {},
   "outputs": [],
   "source": [
    "label_ = pd.get_dummies(df_base['label'])"
   ]
  },
  {
   "cell_type": "code",
   "execution_count": 7,
   "id": "326526c0",
   "metadata": {},
   "outputs": [],
   "source": [
    "#Install and use TensorFlow for the model preparation.\n",
    "#Use an Artificial Neural Network model, \n",
    "#which consists of a set of layers stacked sequentially.\n",
    "#Each layer consists of a set of neurons.\n",
    "#Each neuron in the first layer takes the input features (red, green, blue values in this case), then multiplies them by their respective initialized weights.\n",
    "model = tf.keras.Sequential()\n",
    "model.add(Dense(100,input_shape=(3,)))\n",
    "model.add(BatchNormalization(axis = 1))\n",
    "model.add(Activation('LeakyReLU'))\n",
    "# model.add(Dropout(0.1))\n",
    "model.add(Dense(11))\n",
    "model.add(Activation(\"softmax\"))\n"
   ]
  },
  {
   "cell_type": "code",
   "execution_count": 8,
   "id": "05172db3",
   "metadata": {},
   "outputs": [],
   "source": [
    "model.load_weights('Model/model_weights.h5')"
   ]
  },
  {
   "cell_type": "code",
   "execution_count": 9,
   "id": "1f32a20b",
   "metadata": {
    "scrolled": false
   },
   "outputs": [
    {
     "name": "stdout",
     "output_type": "stream",
     "text": [
      "1/1 [==============================] - 0s 80ms/step\n"
     ]
    }
   ],
   "source": [
    "prediction=model.predict(df[['red','green','blue']])"
   ]
  },
  {
   "cell_type": "code",
   "execution_count": 10,
   "id": "913e8089",
   "metadata": {},
   "outputs": [],
   "source": [
    "output_df=df.copy()\n",
    "output_df[label_.columns]=prediction"
   ]
  },
  {
   "cell_type": "code",
   "execution_count": 11,
   "id": "4a28cb2f",
   "metadata": {},
   "outputs": [],
   "source": [
    "output_df['Prediction']=output_df[label_.columns].idxmax(1)"
   ]
  },
  {
   "cell_type": "code",
   "execution_count": 12,
   "id": "fe63c3f2",
   "metadata": {},
   "outputs": [],
   "source": [
    "output_df.drop(columns=label_.columns,inplace=True)\n",
    "output_df.reset_index(inplace=True,drop=True)"
   ]
  },
  {
   "cell_type": "code",
   "execution_count": 13,
   "id": "7ba3360a",
   "metadata": {
    "scrolled": true
   },
   "outputs": [],
   "source": [
    "output_df.to_csv(\"verification.csv\")"
   ]
  },
  {
   "cell_type": "code",
   "execution_count": 14,
   "id": "71e96451",
   "metadata": {},
   "outputs": [
    {
     "data": {
      "text/html": [
       "<div>\n",
       "<style scoped>\n",
       "    .dataframe tbody tr th:only-of-type {\n",
       "        vertical-align: middle;\n",
       "    }\n",
       "\n",
       "    .dataframe tbody tr th {\n",
       "        vertical-align: top;\n",
       "    }\n",
       "\n",
       "    .dataframe thead th {\n",
       "        text-align: right;\n",
       "    }\n",
       "</style>\n",
       "<table border=\"1\" class=\"dataframe\">\n",
       "  <thead>\n",
       "    <tr style=\"text-align: right;\">\n",
       "      <th></th>\n",
       "      <th>red</th>\n",
       "      <th>green</th>\n",
       "      <th>blue</th>\n",
       "      <th>Prediction</th>\n",
       "    </tr>\n",
       "  </thead>\n",
       "  <tbody>\n",
       "    <tr>\n",
       "      <th>0</th>\n",
       "      <td>25</td>\n",
       "      <td>25</td>\n",
       "      <td>215</td>\n",
       "      <td>Blue</td>\n",
       "    </tr>\n",
       "    <tr>\n",
       "      <th>1</th>\n",
       "      <td>252</td>\n",
       "      <td>52</td>\n",
       "      <td>25</td>\n",
       "      <td>Red</td>\n",
       "    </tr>\n",
       "    <tr>\n",
       "      <th>2</th>\n",
       "      <td>31</td>\n",
       "      <td>12</td>\n",
       "      <td>64</td>\n",
       "      <td>Blue</td>\n",
       "    </tr>\n",
       "    <tr>\n",
       "      <th>3</th>\n",
       "      <td>122</td>\n",
       "      <td>105</td>\n",
       "      <td>105</td>\n",
       "      <td>Grey</td>\n",
       "    </tr>\n",
       "    <tr>\n",
       "      <th>4</th>\n",
       "      <td>45</td>\n",
       "      <td>46</td>\n",
       "      <td>64</td>\n",
       "      <td>Black</td>\n",
       "    </tr>\n",
       "  </tbody>\n",
       "</table>\n",
       "</div>"
      ],
      "text/plain": [
       "   red  green  blue Prediction\n",
       "0   25     25   215       Blue\n",
       "1  252     52    25        Red\n",
       "2   31     12    64       Blue\n",
       "3  122    105   105       Grey\n",
       "4   45     46    64      Black"
      ]
     },
     "execution_count": 14,
     "metadata": {},
     "output_type": "execute_result"
    }
   ],
   "source": [
    "output_df.head()"
   ]
  },
  {
   "cell_type": "code",
   "execution_count": null,
   "id": "4609412a",
   "metadata": {},
   "outputs": [],
   "source": []
  }
 ],
 "metadata": {
  "kernelspec": {
   "display_name": "Python 3 (ipykernel)",
   "language": "python",
   "name": "python3"
  },
  "language_info": {
   "codemirror_mode": {
    "name": "ipython",
    "version": 3
   },
   "file_extension": ".py",
   "mimetype": "text/x-python",
   "name": "python",
   "nbconvert_exporter": "python",
   "pygments_lexer": "ipython3",
   "version": "3.7.9"
  },
  "vscode": {
   "interpreter": {
    "hash": "84840f09b480c5743f35d3e0b6ec6af446f9f7642b98124761cdb8988ef990de"
   }
  }
 },
 "nbformat": 4,
 "nbformat_minor": 5
}
