{
 "cells": [
  {
   "cell_type": "code",
   "execution_count": 2,
   "id": "4f2ea24f",
   "metadata": {},
   "outputs": [],
   "source": [
    "import warnings\n",
    "warnings.filterwarnings('ignore')\n",
    "import pandas as pd\n",
    "import numpy as np\n",
    "import seaborn as sns\n",
    "import matplotlib.pyplot as plt\n",
    "import plotly.express as px\n",
    "\n",
    "import tensorflow as tf\n",
    "from tensorflow.keras.models import Sequential\n",
    "from tensorflow.keras.layers import Activation , BatchNormalization\n",
    "from tensorflow.keras.layers import Flatten\n",
    "from tensorflow.keras.optimizers import SGD\n",
    "from tensorflow.keras import backend as K\n",
    "from tensorflow import keras\n",
    "from tensorflow.keras import layers\n",
    "from tensorflow.keras.layers import Dense,Softmax,Dropout\n",
    "from tensorflow.keras.layers import LSTM,Flatten\n",
    "from tensorflow.keras import regularizers\n",
    "from sklearn.model_selection import train_test_split\n",
    "from tensorflow.keras.layers.experimental import preprocessing\n",
    "from tensorflow.keras.utils import to_categorical\n",
    "from sklearn.preprocessing import OneHotEncoder\n",
    "from sklearn.preprocessing import LabelEncoder"
   ]
  },
  {
   "cell_type": "code",
   "execution_count": 3,
   "id": "745369fa",
   "metadata": {},
   "outputs": [],
   "source": [
    "def one_hot(label,column):\n",
    "    encoder_df = pd.DataFrame((to_categorical(label)))\n",
    "    final_df = df.join(encoder_df)\n",
    "    final_df = final_df.drop(column,axis=1)\n",
    "    return final_df "
   ]
  },
  {
   "cell_type": "code",
   "execution_count": 4,
   "id": "9b4e9afa",
   "metadata": {},
   "outputs": [],
   "source": [
    "def split(data,test_size):\n",
    "    X_train, X_val, ytrain, yval = train_test_split(data[0], data[1],test_size = 0.2,shuffle=True)\n",
    "    return X_train, ytrain,X_val, yval"
   ]
  },
  {
   "cell_type": "code",
   "execution_count": 5,
   "id": "0e5e3b22",
   "metadata": {},
   "outputs": [],
   "source": [
    "#Use the provided sample data for training and testing your model.\n",
    "df=pd.read_csv('data.csv')"
   ]
  },
  {
   "cell_type": "code",
   "execution_count": 187,
   "id": "05636f09",
   "metadata": {},
   "outputs": [],
   "source": [
    "c=[[1,3],[4,5],[[1,3],[4,5.0]]]"
   ]
  },
  {
   "cell_type": "code",
   "execution_count": 188,
   "id": "96579fc5",
   "metadata": {},
   "outputs": [
    {
     "data": {
      "text/plain": [
       "array([1., 3., 4., 5., 1., 3., 4., 5.])"
      ]
     },
     "execution_count": 188,
     "metadata": {},
     "output_type": "execute_result"
    }
   ],
   "source": [
    "c=np.concatenate((c[0:2],c[2]),axis=0)\n",
    "np.concatenate(c)"
   ]
  },
  {
   "cell_type": "code",
   "execution_count": 168,
   "id": "2aed1cc6",
   "metadata": {},
   "outputs": [
    {
     "data": {
      "text/plain": [
       "array([[1, 3],\n",
       "       [4, 5],\n",
       "       [1, 3],\n",
       "       [4, 5]])"
      ]
     },
     "execution_count": 168,
     "metadata": {},
     "output_type": "execute_result"
    }
   ],
   "source": [
    "np.stack(c, axis=0)  "
   ]
  },
  {
   "cell_type": "code",
   "execution_count": 158,
   "id": "1ab0edda",
   "metadata": {},
   "outputs": [
    {
     "data": {
      "text/plain": [
       "[[1, 3], [4, 5], [1, 3], [4, 5]]"
      ]
     },
     "execution_count": 158,
     "metadata": {},
     "output_type": "execute_result"
    }
   ],
   "source": [
    "t"
   ]
  },
  {
   "cell_type": "code",
   "execution_count": 115,
   "id": "c1af9803",
   "metadata": {},
   "outputs": [
    {
     "data": {
      "text/plain": [
       "[[1, 3], [4, 5], [1, 3], [4, 5]]"
      ]
     },
     "execution_count": 115,
     "metadata": {},
     "output_type": "execute_result"
    }
   ],
   "source": [
    "c"
   ]
  },
  {
   "cell_type": "code",
   "execution_count": 116,
   "id": "7f9d1cae",
   "metadata": {},
   "outputs": [],
   "source": [
    "c.extend(t)"
   ]
  },
  {
   "cell_type": "code",
   "execution_count": 117,
   "id": "f61eb8b3",
   "metadata": {},
   "outputs": [
    {
     "data": {
      "text/plain": [
       "[[1, 3], [4, 5], [1, 3], [4, 5], [1, 3], [4, 5], [1, 3], [4, 5]]"
      ]
     },
     "execution_count": 117,
     "metadata": {},
     "output_type": "execute_result"
    }
   ],
   "source": [
    "c"
   ]
  },
  {
   "cell_type": "code",
   "execution_count": 70,
   "id": "b8a43c63",
   "metadata": {},
   "outputs": [],
   "source": [
    "z=[0,1,2,3]\n",
    "# z=pd.DataFrame(z)\n",
    "le = LabelEncoder()\n",
    "z=(to_categorical(z))"
   ]
  },
  {
   "cell_type": "code",
   "execution_count": 73,
   "id": "2e69be41",
   "metadata": {},
   "outputs": [
    {
     "data": {
      "text/plain": [
       "array([0., 1., 0., 0.], dtype=float32)"
      ]
     },
     "execution_count": 73,
     "metadata": {},
     "output_type": "execute_result"
    }
   ],
   "source": [
    "z[1]"
   ]
  },
  {
   "cell_type": "code",
   "execution_count": 7,
   "id": "0c15634d",
   "metadata": {
    "scrolled": true
   },
   "outputs": [],
   "source": [
    "#The dataset contains \"red\", \"green\", \"blue\" columns with color code values and \"label\" column for color category.\n",
    "data=[]\n",
    "parameters=df[['red','green','blue']].copy()\n",
    "#Use any categorical encoding to convert \"label\" column into numerical data.\n",
    "le = LabelEncoder()\n",
    "label_ = pd.get_dummies(df['label'])\n",
    "label = pd.DataFrame(le.fit_transform(df['label']))\n",
    "label=one_hot(label,'label')\n",
    "label=label.drop(['red','green','blue'],axis=1)\n",
    "data.append(parameters)\n",
    "data.append(label_)"
   ]
  },
  {
   "cell_type": "code",
   "execution_count": 8,
   "id": "2abe6b35",
   "metadata": {},
   "outputs": [],
   "source": [
    "#Split the data into train and test datasets with 80:20 ratio.\n",
    "trainX,trainY,testX,testY=split(data,0.2)"
   ]
  },
  {
   "cell_type": "code",
   "execution_count": 11,
   "id": "326526c0",
   "metadata": {},
   "outputs": [],
   "source": [
    "#Install and use TensorFlow for the model preparation.\n",
    "#Use an Artificial Neural Network model, \n",
    "#which consists of a set of layers stacked sequentially.\n",
    "#Each layer consists of a set of neurons.\n",
    "#Each neuron in the first layer takes the input features (red, green, blue values in this case), then multiplies them by their respective initialized weights.\n",
    "model = tf.keras.Sequential()\n",
    "model.add(Dense(100,input_shape=(3,)))\n",
    "model.add(BatchNormalization(axis = 1))\n",
    "model.add(Activation('relu'))\n",
    "# model.add(Dropout(0.1))\n",
    "model.add(Dense(11))\n",
    "model.add(Activation(\"softmax\"))\n"
   ]
  },
  {
   "cell_type": "code",
   "execution_count": 12,
   "id": "809f5978",
   "metadata": {},
   "outputs": [],
   "source": [
    "#evaluation metrics\n",
    "\n",
    "def recall_m(y_true, y_pred):\n",
    "    true_positives = K.sum(K.round(K.clip(y_true * y_pred, 0, 1)))\n",
    "    possible_positives = K.sum(K.round(K.clip(y_true, 0, 1)))\n",
    "    recall = true_positives / (possible_positives + K.epsilon())\n",
    "    return tf.reduce_max(recall)\n",
    "\n",
    "def precision_m(y_true, y_pred):\n",
    "    true_positives = K.sum(K.round(K.clip(y_true * y_pred, 0, 1)))\n",
    "    predicted_positives = K.sum(K.round(K.clip(y_pred, 0, 1)))\n",
    "    precision = true_positives / (predicted_positives + K.epsilon())\n",
    "    return tf.reduce_max(precision)\n",
    "\n",
    "def f1_m(y_true, y_pred):\n",
    "    precision = precision_m(y_true, y_pred)\n",
    "    recall = recall_m(y_true, y_pred)\n",
    "    return tf.reduce_max(2*((precision*recall)/(precision+recall+K.epsilon())))\n",
    "\n",
    "lr = 1e-4\n",
    "loss='categorical_crossentropy'\n",
    "metrics=['acc',f1_m,precision_m, recall_m]\n",
    "optimizer=keras.optimizers.Adam(learning_rate=lr)"
   ]
  },
  {
   "cell_type": "code",
   "execution_count": 21,
   "id": "0801076d",
   "metadata": {},
   "outputs": [],
   "source": [
    "def test_model_local(X_test, Y_test,  model):\n",
    "    lossfn = tf.keras.losses.CategoricalCrossentropy(from_logits=True)\n",
    "    output = model.predict(X_test)\n",
    "    loss = lossfn(Y_test, output)\n",
    "    loss1, acc, F1_Score, precision, recall = model.evaluate(X_test, Y_test, verbose=0)\n",
    "\n",
    "    print('acc: {:.4%} | loss: {} and {} | precision: {} | recall: {} | F1: {}'.format(acc, loss , loss1, precision, recall , F1_Score))\n",
    "    return acc, loss, precision, recall , F1_Score"
   ]
  },
  {
   "cell_type": "code",
   "execution_count": 22,
   "id": "fb69fda5",
   "metadata": {},
   "outputs": [],
   "source": [
    "# class Save(tf.keras.callbacks.Callback):\n",
    "#     def save_at_epoch(self, epoch):\n",
    "#         self.model.save(\"model_{}.hd5\".format(epoch))"
   ]
  },
  {
   "cell_type": "code",
   "execution_count": 23,
   "id": "d9a4cb89",
   "metadata": {},
   "outputs": [],
   "source": [
    "# path=r\"C:\\Users\\sagar\\OneDrive\\Desktop\\MY-PROJECTS\\Topcoder_colourContest\\models\""
   ]
  },
  {
   "cell_type": "code",
   "execution_count": 24,
   "id": "3ef7c4b3",
   "metadata": {},
   "outputs": [],
   "source": [
    "# saver = tf.keras.callbacks.ModelCheckpoint(filepath=path,\n",
    "#                                                  save_weights_only=True,\n",
    "#                                                  verbose=0)"
   ]
  },
  {
   "cell_type": "code",
   "execution_count": 29,
   "id": "e430ff1e",
   "metadata": {},
   "outputs": [],
   "source": [
    "#Setup the layers and compile the model.\n",
    "model.compile(loss=loss, \n",
    "            optimizer=optimizer, \n",
    "            metrics=metrics)"
   ]
  },
  {
   "cell_type": "code",
   "execution_count": 30,
   "id": "576f5bba",
   "metadata": {},
   "outputs": [],
   "source": [
    "#Train the model using sample training data.\n",
    "history=model.fit(trainX,trainY, epochs=1,verbose=0)\n",
    "#Evaluate the accuracy score of model using the predicted data.\n",
    "# acc1, loss1, precision, recall ,F1_Score = test_model_local(testX, testY ,model)\n",
    "#save model weights\n"
   ]
  },
  {
   "cell_type": "code",
   "execution_count": 34,
   "id": "bf6e8745",
   "metadata": {
    "scrolled": true
   },
   "outputs": [
    {
     "name": "stdout",
     "output_type": "stream",
     "text": [
      "[[2.2788799e-11 8.4703167e-08 1.8001089e-03 ... 8.4265587e-08\n",
      "  1.8707424e-09 5.9270030e-01]\n",
      " [1.3215944e-12 7.0170327e-06 8.5032671e-06 ... 4.4228593e-05\n",
      "  1.2012274e-08 2.9831854e-10]\n",
      " [1.0920252e-07 2.5450884e-04 2.7011827e-01 ... 2.3452861e-02\n",
      "  9.3142572e-04 2.0373650e-01]\n",
      " ...\n",
      " [4.6323980e-13 3.5145612e-07 8.0669894e-11 ... 1.8709831e-17\n",
      "  1.2381502e-17 1.3725226e-08]\n",
      " [1.0183533e-07 1.2602875e-05 6.4482592e-02 ... 7.6126438e-01\n",
      "  2.0771772e-07 7.1626405e-06]\n",
      " [1.4813811e-09 3.8453114e-01 1.1651734e-04 ... 3.5923851e-05\n",
      "  2.0419065e-02 5.5608945e-03]]\n"
     ]
    }
   ],
   "source": [
    "history.history['loss']\n"
   ]
  },
  {
   "cell_type": "code",
   "execution_count": 38,
   "id": "b5243bf9",
   "metadata": {},
   "outputs": [],
   "source": [
    "x=testX.reset_index()\n"
   ]
  },
  {
   "cell_type": "code",
   "execution_count": 41,
   "id": "354d12ee",
   "metadata": {},
   "outputs": [
    {
     "data": {
      "text/html": [
       "<div>\n",
       "<style scoped>\n",
       "    .dataframe tbody tr th:only-of-type {\n",
       "        vertical-align: middle;\n",
       "    }\n",
       "\n",
       "    .dataframe tbody tr th {\n",
       "        vertical-align: top;\n",
       "    }\n",
       "\n",
       "    .dataframe thead th {\n",
       "        text-align: right;\n",
       "    }\n",
       "</style>\n",
       "<table border=\"1\" class=\"dataframe\">\n",
       "  <thead>\n",
       "    <tr style=\"text-align: right;\">\n",
       "      <th></th>\n",
       "      <th>index</th>\n",
       "      <th>red</th>\n",
       "      <th>green</th>\n",
       "      <th>blue</th>\n",
       "    </tr>\n",
       "  </thead>\n",
       "  <tbody>\n",
       "    <tr>\n",
       "      <th>0</th>\n",
       "      <td>4143</td>\n",
       "      <td>193</td>\n",
       "      <td>215</td>\n",
       "      <td>30</td>\n",
       "    </tr>\n",
       "  </tbody>\n",
       "</table>\n",
       "</div>"
      ],
      "text/plain": [
       "   index  red  green  blue\n",
       "0   4143  193    215    30"
      ]
     },
     "execution_count": 41,
     "metadata": {},
     "output_type": "execute_result"
    }
   ],
   "source": [
    "x[:1]"
   ]
  },
  {
   "cell_type": "code",
   "execution_count": 42,
   "id": "8a29f2eb",
   "metadata": {},
   "outputs": [
    {
     "name": "stdout",
     "output_type": "stream",
     "text": [
      "[[2.2788799e-11 8.4703096e-08 1.8001089e-03 4.0401962e-01 4.0823195e-04\n",
      "  1.0716321e-03 5.3170859e-09 2.0760067e-09 8.4265587e-08 1.8707424e-09\n",
      "  5.9270030e-01]]\n"
     ]
    }
   ],
   "source": [
    "prediction=model.predict(testX[:1])\n",
    "print(prediction)"
   ]
  },
  {
   "cell_type": "code",
   "execution_count": 15,
   "id": "acde2e64",
   "metadata": {},
   "outputs": [],
   "source": [
    "model.save_weights('Model/model_weights.h5')"
   ]
  },
  {
   "cell_type": "code",
   "execution_count": 16,
   "id": "7a193330",
   "metadata": {
    "scrolled": true
   },
   "outputs": [
    {
     "data": {
      "image/png": "[encoded data removed]",
      "text/plain": [
       "<Figure size 720x504 with 1 Axes>"
      ]
     },
     "metadata": {
      "needs_background": "light"
     },
     "output_type": "display_data"
    },
    {
     "data": {
      "image/png": "[encoded data removed]",
      "text/plain": [
       "<Figure size 720x504 with 1 Axes>"
      ]
     },
     "metadata": {
      "needs_background": "light"
     },
     "output_type": "display_data"
    },
    {
     "data": {
      "image/png": "[encoded data removed]",
      "text/plain": [
       "<Figure size 720x504 with 1 Axes>"
      ]
     },
     "metadata": {
      "needs_background": "light"
     },
     "output_type": "display_data"
    },
    {
     "data": {
      "image/png": "[encoded data removed]",
      "text/plain": [
       "<Figure size 720x504 with 1 Axes>"
      ]
     },
     "metadata": {
      "needs_background": "light"
     },
     "output_type": "display_data"
    }
   ],
   "source": [
    "#Visualization \n",
    "width,height=10,7\n",
    "figA=plt.figure(figsize=(width, height))\n",
    "plt.plot(history.history['acc'])\n",
    "plt.title('Accuracy')\n",
    "plt.ylabel('Accuracy')\n",
    "plt.xlabel('Epochs')\n",
    "plt.show()\n",
    "figB=plt.figure(figsize=(width, height))\n",
    "plt.plot(history.history['loss'])\n",
    "plt.title('loss')\n",
    "plt.ylabel('loss')\n",
    "plt.xlabel('Epochs')\n",
    "plt.show()\n",
    "figC=plt.figure(figsize=(width, height))\n",
    "plt.plot(history.history['precision_m'])\n",
    "plt.title('precision_m')\n",
    "plt.ylabel('precision_m')\n",
    "plt.xlabel('Epochs')\n",
    "plt.show()\n",
    "figD=plt.figure(figsize=(width, height))\n",
    "plt.plot(history.history['recall_m'])\n",
    "plt.title('recall_m')\n",
    "plt.ylabel('recall_m')\n",
    "plt.xlabel('Epochs')\n",
    "plt.show()"
   ]
  },
  {
   "cell_type": "code",
   "execution_count": null,
   "id": "fe9bb21a",
   "metadata": {},
   "outputs": [],
   "source": []
  },
  {
   "cell_type": "code",
   "execution_count": 17,
   "id": "2fd2ff8a",
   "metadata": {},
   "outputs": [
    {
     "name": "stdout",
     "output_type": "stream",
     "text": [
      "32/32 [==============================] - 0s 645us/step\n"
     ]
    }
   ],
   "source": [
    "output_df=pd.DataFrame(testX,columns=['red','green','blue'])\n",
    "output_df['Label']=testY.idxmax(1)\n",
    "prediction=model.predict(testX)"
   ]
  },
  {
   "cell_type": "code",
   "execution_count": 18,
   "id": "d56d7ed9",
   "metadata": {},
   "outputs": [],
   "source": [
    "output_df[testY.columns]=prediction"
   ]
  },
  {
   "cell_type": "code",
   "execution_count": 19,
   "id": "6c01374d",
   "metadata": {},
   "outputs": [],
   "source": [
    "output_df['Prediction']=output_df[testY.columns].idxmax(1)"
   ]
  },
  {
   "cell_type": "code",
   "execution_count": 20,
   "id": "0abab00b",
   "metadata": {},
   "outputs": [],
   "source": [
    "output_df.drop(columns=testY.columns,inplace=True)"
   ]
  },
  {
   "cell_type": "code",
   "execution_count": 21,
   "id": "0ac35317",
   "metadata": {},
   "outputs": [],
   "source": [
    "output_df.reset_index(inplace=True,drop=True)"
   ]
  },
  {
   "cell_type": "code",
   "execution_count": 22,
   "id": "b52372d8",
   "metadata": {
    "scrolled": true
   },
   "outputs": [],
   "source": [
    "output_df.to_csv(\"Result\\Result.csv\")"
   ]
  },
  {
   "cell_type": "code",
   "execution_count": 23,
   "id": "8d7724b9",
   "metadata": {},
   "outputs": [
    {
     "data": {
      "text/html": [
       "<div>\n",
       "<style scoped>\n",
       "    .dataframe tbody tr th:only-of-type {\n",
       "        vertical-align: middle;\n",
       "    }\n",
       "\n",
       "    .dataframe tbody tr th {\n",
       "        vertical-align: top;\n",
       "    }\n",
       "\n",
       "    .dataframe thead th {\n",
       "        text-align: right;\n",
       "    }\n",
       "</style>\n",
       "<table border=\"1\" class=\"dataframe\">\n",
       "  <thead>\n",
       "    <tr style=\"text-align: right;\">\n",
       "      <th></th>\n",
       "      <th>red</th>\n",
       "      <th>green</th>\n",
       "      <th>blue</th>\n",
       "      <th>Label</th>\n",
       "      <th>Prediction</th>\n",
       "    </tr>\n",
       "  </thead>\n",
       "  <tbody>\n",
       "    <tr>\n",
       "      <th>0</th>\n",
       "      <td>198</td>\n",
       "      <td>253</td>\n",
       "      <td>109</td>\n",
       "      <td>Green</td>\n",
       "      <td>Yellow</td>\n",
       "    </tr>\n",
       "    <tr>\n",
       "      <th>1</th>\n",
       "      <td>151</td>\n",
       "      <td>240</td>\n",
       "      <td>183</td>\n",
       "      <td>Green</td>\n",
       "      <td>Green</td>\n",
       "    </tr>\n",
       "    <tr>\n",
       "      <th>2</th>\n",
       "      <td>100</td>\n",
       "      <td>202</td>\n",
       "      <td>194</td>\n",
       "      <td>Blue</td>\n",
       "      <td>Blue</td>\n",
       "    </tr>\n",
       "    <tr>\n",
       "      <th>3</th>\n",
       "      <td>210</td>\n",
       "      <td>130</td>\n",
       "      <td>229</td>\n",
       "      <td>Purple</td>\n",
       "      <td>Pink</td>\n",
       "    </tr>\n",
       "    <tr>\n",
       "      <th>4</th>\n",
       "      <td>95</td>\n",
       "      <td>12</td>\n",
       "      <td>112</td>\n",
       "      <td>Purple</td>\n",
       "      <td>Purple</td>\n",
       "    </tr>\n",
       "  </tbody>\n",
       "</table>\n",
       "</div>"
      ],
      "text/plain": [
       "   red  green  blue   Label Prediction\n",
       "0  198    253   109   Green     Yellow\n",
       "1  151    240   183   Green      Green\n",
       "2  100    202   194    Blue       Blue\n",
       "3  210    130   229  Purple       Pink\n",
       "4   95     12   112  Purple     Purple"
      ]
     },
     "execution_count": 23,
     "metadata": {},
     "output_type": "execute_result"
    }
   ],
   "source": [
    "output_df.head()"
   ]
  },
  {
   "cell_type": "code",
   "execution_count": 165,
   "id": "63a21f91",
   "metadata": {},
   "outputs": [
    {
     "name": "stdout",
     "output_type": "stream",
     "text": [
      "pygame 2.1.2 (SDL 2.0.18, Python 3.6.13)\n",
      "Hello from the pygame community. https://www.pygame.org/contribute.html\n"
     ]
    },
    {
     "name": "stderr",
     "output_type": "stream",
     "text": [
      "2022-12-09 14:06:22.807751: I tensorflow/stream_executor/platform/default/dso_loader.cc:49] Successfully opened dynamic library cudart64_110.dll\n",
      "2022-12-09 14:06:27.678978: I tensorflow/compiler/jit/xla_cpu_device.cc:41] Not creating XLA devices, tf_xla_enable_xla_devices not set\n",
      "2022-12-09 14:06:27.679496: I tensorflow/stream_executor/platform/default/dso_loader.cc:49] Successfully opened dynamic library nvcuda.dll\n",
      "2022-12-09 14:06:27.698483: I tensorflow/core/common_runtime/gpu/gpu_device.cc:1720] Found device 0 with properties: \n",
      "pciBusID: 0000:01:00.0 name: NVIDIA GeForce GTX 1650 computeCapability: 7.5\n",
      "coreClock: 1.515GHz coreCount: 14 deviceMemorySize: 4.00GiB deviceMemoryBandwidth: 178.84GiB/s\n",
      "2022-12-09 14:06:27.698521: I tensorflow/stream_executor/platform/default/dso_loader.cc:49] Successfully opened dynamic library cudart64_110.dll\n",
      "2022-12-09 14:06:27.704903: I tensorflow/stream_executor/platform/default/dso_loader.cc:49] Successfully opened dynamic library cublas64_11.dll\n",
      "2022-12-09 14:06:27.704928: I tensorflow/stream_executor/platform/default/dso_loader.cc:49] Successfully opened dynamic library cublasLt64_11.dll\n",
      "2022-12-09 14:06:27.707170: I tensorflow/stream_executor/platform/default/dso_loader.cc:49] Successfully opened dynamic library cufft64_10.dll\n",
      "2022-12-09 14:06:27.708218: I tensorflow/stream_executor/platform/default/dso_loader.cc:49] Successfully opened dynamic library curand64_10.dll\n",
      "2022-12-09 14:06:27.711229: I tensorflow/stream_executor/platform/default/dso_loader.cc:49] Successfully opened dynamic library cusolver64_10.dll\n",
      "2022-12-09 14:06:27.713173: I tensorflow/stream_executor/platform/default/dso_loader.cc:49] Successfully opened dynamic library cusparse64_11.dll\n",
      "2022-12-09 14:06:27.713961: W tensorflow/stream_executor/platform/default/dso_loader.cc:60] Could not load dynamic library 'cudnn64_8.dll'; dlerror: cudnn64_8.dll not found\n",
      "2022-12-09 14:06:27.713974: W tensorflow/core/common_runtime/gpu/gpu_device.cc:1757] Cannot dlopen some GPU libraries. Please make sure the missing libraries mentioned above are installed properly if you would like to use GPU. Follow the guide at https://www.tensorflow.org/install/gpu for how to download and setup the required libraries for your platform.\n",
      "Skipping registering GPU devices...\n",
      "2022-12-09 14:06:27.714224: I tensorflow/core/platform/cpu_feature_guard.cc:142] This TensorFlow binary is optimized with oneAPI Deep Neural Network Library (oneDNN) to use the following CPU instructions in performance-critical operations:  AVX2\n",
      "To enable them in other operations, rebuild TensorFlow with the appropriate compiler flags.\n",
      "2022-12-09 14:06:27.714738: I tensorflow/core/common_runtime/gpu/gpu_device.cc:1261] Device interconnect StreamExecutor with strength 1 edge matrix:\n",
      "2022-12-09 14:06:27.714750: I tensorflow/core/common_runtime/gpu/gpu_device.cc:1267]      \n",
      "2022-12-09 14:06:27.714765: I tensorflow/compiler/jit/xla_gpu_device.cc:99] Not creating XLA devices, tf_xla_enable_xla_devices not set\n",
      "C:\\Users\\sagar\\anaconda3\\envs\\myenv\\lib\\site-packages\\gym\\core.py:27: UserWarning:\n",
      "\n",
      "\u001b[33mWARN: Gym minimally supports python 3.6 as the python foundation not longer supports the version, please update your version to 3.7+\u001b[0m\n",
      "\n",
      "Traceback (most recent call last):\n",
      "  File \"C:\\Users\\sagar\\Downloads\\Swarm-BioNanoRobots-main\\mycode.py\", line 408, in <module>\n",
      "    action=train_predict(model,observation,rand_label)\n",
      "  File \"C:\\Users\\sagar\\Downloads\\Swarm-BioNanoRobots-main\\mycode.py\", line 393, in train_predict\n",
      "    model.fit(inp, z[label], epochs=1, verbose=0)\n",
      "  File \"C:\\Users\\sagar\\AppData\\Roaming\\Python\\Python36\\site-packages\\tensorflow\\python\\keras\\engine\\training.py\", line 1064, in fit\n",
      "    steps_per_execution=self._steps_per_execution)\n",
      "  File \"C:\\Users\\sagar\\AppData\\Roaming\\Python\\Python36\\site-packages\\tensorflow\\python\\keras\\engine\\data_adapter.py\", line 1099, in __init__\n",
      "    adapter_cls = select_data_adapter(x, y)\n",
      "  File \"C:\\Users\\sagar\\AppData\\Roaming\\Python\\Python36\\site-packages\\tensorflow\\python\\keras\\engine\\data_adapter.py\", line 964, in select_data_adapter\n",
      "    _type_name(x), _type_name(y)))\n",
      "ValueError: Failed to find data adapter that can handle input: (<class 'list'> containing values of types {'(<class \\'list\\'> containing values of types {\"<class \\'numpy.float64\\'>\"})'}), <class 'numpy.ndarray'>\n"
     ]
    }
   ],
   "source": [
    "!python C:\\Users\\sagar\\Downloads\\Swarm-BioNanoRobots-main\\mycode.py"
   ]
  },
  {
   "cell_type": "code",
   "execution_count": 199,
   "id": "3180af8a",
   "metadata": {},
   "outputs": [],
   "source": [
    "i=[1,2,3,5,4,5]"
   ]
  },
  {
   "cell_type": "code",
   "execution_count": 200,
   "id": "745bc545",
   "metadata": {},
   "outputs": [
    {
     "data": {
      "text/plain": [
       "[1, 2, 3, 5, 4, 5]"
      ]
     },
     "execution_count": 200,
     "metadata": {},
     "output_type": "execute_result"
    }
   ],
   "source": [
    "i"
   ]
  },
  {
   "cell_type": "code",
   "execution_count": 201,
   "id": "0fa065bf",
   "metadata": {},
   "outputs": [],
   "source": [
    "i.clear()"
   ]
  },
  {
   "cell_type": "code",
   "execution_count": null,
   "id": "fc0294e9",
   "metadata": {},
   "outputs": [],
   "source": []
  }
 ],
 "metadata": {
  "kernelspec": {
   "display_name": "Python 3 (ipykernel)",
   "language": "python",
   "name": "python3"
  },
  "language_info": {
   "codemirror_mode": {
    "name": "ipython",
    "version": 3
   },
   "file_extension": ".py",
   "mimetype": "text/x-python",
   "name": "python",
   "nbconvert_exporter": "python",
   "pygments_lexer": "ipython3",
   "version": "3.7.9"
  }
 },
 "nbformat": 4,
 "nbformat_minor": 5
}
